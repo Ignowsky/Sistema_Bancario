{
  "nbformat": 4,
  "nbformat_minor": 0,
  "metadata": {
    "colab": {
      "provenance": []
    },
    "kernelspec": {
      "name": "python3",
      "display_name": "Python 3"
    },
    "language_info": {
      "name": "python"
    }
  },
  "cells": [
    {
      "cell_type": "code",
      "execution_count": 14,
      "metadata": {
        "colab": {
          "base_uri": "https://localhost:8080/"
        },
        "id": "MZJDwlZ0eO4Q",
        "outputId": "385b24d3-5874-46ab-dcb9-aaf5b3261e87"
      },
      "outputs": [
        {
          "name": "stdout",
          "output_type": "stream",
          "text": [
            "\n",
            "[D] Deposito\n",
            "[S] Saque\n",
            "[E] Extrato\n",
            "[Q] Quit\n",
            "s\n",
            "Operação Falhou! Digite uma operação valida\n",
            "\n",
            "[D] Deposito\n",
            "[S] Saque\n",
            "[E] Extrato\n",
            "[Q] Quit\n",
            "q\n",
            "Operação Falhou! Digite uma operação valida\n",
            "\n",
            "[D] Deposito\n",
            "[S] Saque\n",
            "[E] Extrato\n",
            "[Q] Quit\n",
            "Q\n"
          ]
        }
      ],
      "source": [
        "menu = \"\"\"\n",
        "[D] Deposito\n",
        "[S] Saque\n",
        "[E] Extrato\n",
        "[Q] Quit\n",
        "\"\"\"\n",
        "\n",
        "saldo = 0\n",
        "extrato = \"\"\n",
        "valor_saque = 500\n",
        "numero_saque = 0\n",
        "LIMITE_SAQUES = 3\n",
        "\n",
        "while True:\n",
        "  opcao = input(menu)\n",
        "\n",
        "  if opcao == \"D\":\n",
        "    valor = float(input(\"Informe o valor que deseja depositar: \"))\n",
        "\n",
        "    if valor > 0:\n",
        "      saldo += valor\n",
        "      extrato += f\"Deposito realizado com sucesso: {valor:.2f}\\n\"\n",
        "\n",
        "    else:\n",
        "      print(\"Operação Falhou! por favor digite um valor válido para depositos\")\n",
        "\n",
        "\n",
        "  if opcao == \"S\":\n",
        "    valor = float(input(\"Informe o valor que deseja sacar: \"))\n",
        "    excedeu_saldo = valor > saldo\n",
        "    excedeu_valor = valor > valor_saque\n",
        "    excedeu_saque = numero_saque >= LIMITE_SAQUES\n",
        "\n",
        "    if excedeu_saldo:\n",
        "      print(\"Operação Falhou! Você não possui saldo.\")\n",
        "\n",
        "    elif excedeu_valor:\n",
        "      print(\"Operação Falhou! Valor informado ultrapassa seu limite de saques, entre em contato com seu gerente.\")\n",
        "\n",
        "    elif excedeu_saque:\n",
        "      print(\"Operação Falho! Você atingiu o limite de saques diarios, entre em contato com seu gerente\")\n",
        "\n",
        "    elif valor > 0:\n",
        "      saldo -= valor\n",
        "      extrato += f\"Saque realizado com sucesso: {valor:.2f}\\n\"\n",
        "      numero_saque += 1\n",
        "\n",
        "\n",
        "    else:\n",
        "      print(\"Operação Falhou! Por favor digite um valor valido\")\n",
        "\n",
        "\n",
        "  if opcao == \"E\":\n",
        "    print(\"=============== EXTRATO ===============\")\n",
        "    print(\"Não existe movimentações \\n\" if not extrato else extrato)\n",
        "    print(f\"Saldo: R$ {saldo:.2f}\")\n",
        "    print(\"=======================================\")\n",
        "\n",
        "  if opcao == \"Q\":\n",
        "    break\n",
        "\n",
        "  else:\n",
        "    print(\"Operação Falhou! Digite uma operação valida\")\n",
        "\n",
        "\n",
        "\n"
      ]
    }
  ]
}